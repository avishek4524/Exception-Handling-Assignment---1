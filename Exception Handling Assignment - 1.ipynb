{
 "cells": [
  {
   "cell_type": "code",
   "execution_count": null,
   "id": "ebd190d4-1f68-4404-bce2-a1d1d204d815",
   "metadata": {},
   "outputs": [],
   "source": [
    "q1 ans when a Python script encounters a situation that it cannot cope with, it raises an exception. An exception is a Python object that represents an error.\n",
    "\n",
    "When a Python script raises an exception, it must either handle the exception immediately otherwise it terminates and quits.\n",
    "Both errors and exceptions are a type of runtime error, which means they occur during the execution of a program.\n",
    "An error is an issue in a program that prevents the program from completing its task. In comparison, an exception is a condition that interrupts the normal flow of the program. "
   ]
  },
  {
   "cell_type": "code",
   "execution_count": null,
   "id": "997fe830-c250-4b17-8ae6-e754706a50e6",
   "metadata": {},
   "outputs": [],
   "source": [
    "Q2 ANS When an exception occurred,the program terminates abruptly and the code past the line that caused the exception will not get executed."
   ]
  },
  {
   "cell_type": "code",
   "execution_count": 2,
   "id": "d162d36f-7dbe-4b6a-9a23-3f737df6dd9e",
   "metadata": {},
   "outputs": [
    {
     "name": "stdout",
     "output_type": "stream",
     "text": [
      "can not find file\n"
     ]
    }
   ],
   "source": [
    "try:\n",
    "    f=open(\"test.txt\",\"r\")\n",
    "    f.write(\"avishek kumar dubey\")\n",
    "except IOError:\n",
    "    print(\"can not find file\")\n",
    "else:\n",
    "    print(\"updated successfully\")\n",
    "    f.close()"
   ]
  },
  {
   "cell_type": "code",
   "execution_count": null,
   "id": "d92949ec-7998-45dc-8105-bf78a052fefd",
   "metadata": {},
   "outputs": [],
   "source": [
    "Q3 ans except block is used to catch and handle exception."
   ]
  },
  {
   "cell_type": "code",
   "execution_count": 3,
   "id": "e729e39d-abd2-444f-a89a-bf5fea7aedab",
   "metadata": {},
   "outputs": [
    {
     "name": "stdout",
     "output_type": "stream",
     "text": [
      "hello\n",
      " nothing went wrong\n"
     ]
    }
   ],
   "source": [
    "try:\n",
    "    print(\"hello\")\n",
    "except:\n",
    "    print(\" something went wrong\")\n",
    "else:\n",
    "    print(\" nothing went wrong\")"
   ]
  },
  {
   "cell_type": "code",
   "execution_count": null,
   "id": "ba43871b-ad94-45b5-99c7-7edf67c0b9bb",
   "metadata": {},
   "outputs": [],
   "source": [
    "'Q4 ans.\n"
   ]
  },
  {
   "cell_type": "code",
   "execution_count": 4,
   "id": "24bffb38-87fc-4782-b670-8e8e82257558",
   "metadata": {},
   "outputs": [
    {
     "name": "stdout",
     "output_type": "stream",
     "text": [
      "hello\n",
      " nothing went wrong\n",
      "finished\n"
     ]
    }
   ],
   "source": [
    "try:\n",
    "    print(\"hello\")\n",
    "except:\n",
    "    print(\" something went wrong\")\n",
    "else:\n",
    "    print(\" nothing went wrong\")\n",
    "finally:\n",
    "    print(\"finished\")\n",
    "    "
   ]
  },
  {
   "cell_type": "code",
   "execution_count": 5,
   "id": "22ae106d-5f00-4a69-b8d6-0e0237f1311e",
   "metadata": {},
   "outputs": [
    {
     "ename": "Exception",
     "evalue": "Sorry, no numbers below zero",
     "output_type": "error",
     "traceback": [
      "\u001b[0;31m---------------------------------------------------------------------------\u001b[0m",
      "\u001b[0;31mException\u001b[0m                                 Traceback (most recent call last)",
      "Cell \u001b[0;32mIn[5], line 4\u001b[0m\n\u001b[1;32m      1\u001b[0m x \u001b[38;5;241m=\u001b[39m \u001b[38;5;241m-\u001b[39m\u001b[38;5;241m1\u001b[39m\n\u001b[1;32m      3\u001b[0m \u001b[38;5;28;01mif\u001b[39;00m x \u001b[38;5;241m<\u001b[39m \u001b[38;5;241m0\u001b[39m:\n\u001b[0;32m----> 4\u001b[0m   \u001b[38;5;28;01mraise\u001b[39;00m \u001b[38;5;167;01mException\u001b[39;00m(\u001b[38;5;124m\"\u001b[39m\u001b[38;5;124mSorry, no numbers below zero\u001b[39m\u001b[38;5;124m\"\u001b[39m)\n",
      "\u001b[0;31mException\u001b[0m: Sorry, no numbers below zero"
     ]
    }
   ],
   "source": [
    "x = -1\n",
    "\n",
    "if x < 0:\n",
    "  raise Exception(\"Sorry, no numbers below zero\")"
   ]
  },
  {
   "cell_type": "code",
   "execution_count": null,
   "id": "183f3d96-10d5-46ad-901a-0f42d5204051",
   "metadata": {},
   "outputs": [],
   "source": [
    "Q5ans In Python, we can define custom exceptions by creating a new class that is derived from the built-in Exception class.\n",
    "Custom exceptions provide he flexibility to add attributes and methods that are not part of a standard exception. These can store additional information, like an application-specific error code, or provide utility methods that can be used to handle or present the exception to a user.\n"
   ]
  },
  {
   "cell_type": "code",
   "execution_count": 6,
   "id": "edb4a7b7-8dd6-42fc-a46a-3e7f0cd7de62",
   "metadata": {},
   "outputs": [
    {
     "name": "stdin",
     "output_type": "stream",
     "text": [
      "Enter a number:  20\n"
     ]
    },
    {
     "name": "stdout",
     "output_type": "stream",
     "text": [
      "Eligible to Vote\n"
     ]
    }
   ],
   "source": [
    "# define Python user-defined exceptions\n",
    "class InvalidAgeException(Exception):\n",
    "    \"Raised when the input value is less than 18\"\n",
    "    pass\n",
    "\n",
    "\n",
    "number = 18\n",
    "\n",
    "try:\n",
    "    input_num = int(input(\"Enter a number: \"))\n",
    "    if input_num < number:\n",
    "        raise InvalidAgeException\n",
    "    else:\n",
    "        print(\"Eligible to Vote\")\n",
    "        \n",
    "except InvalidAgeException:\n",
    "    print(\"Exception occurred: Invalid Age\")"
   ]
  }
 ],
 "metadata": {
  "kernelspec": {
   "display_name": "Python 3 (ipykernel)",
   "language": "python",
   "name": "python3"
  },
  "language_info": {
   "codemirror_mode": {
    "name": "ipython",
    "version": 3
   },
   "file_extension": ".py",
   "mimetype": "text/x-python",
   "name": "python",
   "nbconvert_exporter": "python",
   "pygments_lexer": "ipython3",
   "version": "3.10.8"
  }
 },
 "nbformat": 4,
 "nbformat_minor": 5
}
